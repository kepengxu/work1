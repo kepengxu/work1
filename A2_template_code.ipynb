{
 "cells": [
  {
   "cell_type": "markdown",
   "metadata": {
    "colab_type": "text",
    "id": "Z33aTMoWcz_g"
   },
   "source": [
    "## Problem 1: Linear Support Vector Machine"
   ]
  },
  {
   "cell_type": "code",
   "execution_count": 0,
   "metadata": {
    "colab": {},
    "colab_type": "code",
    "id": "GfnNe2unc1ZB"
   },
   "outputs": [],
   "source": [
    "# Import Libraries\n",
    "from numpy import *\n",
    "import pandas as pd\n",
    "import cvxpy as cp\n",
    "import time\n",
    "import cvxopt\n",
    "from cvxopt import matrix as cvxopt_matrix\n",
    "from cvxopt import solvers as cvxopt_solvers\n",
    "import matplotlib.pylab as plt"
   ]
  },
  {
   "cell_type": "code",
   "execution_count": 0,
   "metadata": {
    "colab": {},
    "colab_type": "code",
    "id": "lbDgCB2ydWmw"
   },
   "outputs": [],
   "source": [
    "# Import Data\n",
    "data1 = pd.read_csv('prob1data.csv',header=None).values\n",
    "X = data1[:,0:2]\n",
    "y = data1[:,-1]\n",
    "\n",
    "# Hint: examine the data before you start coding SVM"
   ]
  },
  {
   "cell_type": "code",
   "execution_count": 0,
   "metadata": {
    "colab": {},
    "colab_type": "code",
    "id": "xVZBwwA7dYw_"
   },
   "outputs": [],
   "source": [
    "# Problem (1a)\n",
    "def LinearSVM_Primal (X, y, C):\n",
    "  # -------- INSERT YOUR CODE HERE -------- #\n",
    "  # \n",
    "  #\n",
    "\n",
    "  return w, b, sol_time\n",
    "\n",
    "# Compute the decision boundary\n",
    "# -------- INSERT YOUR CODE HERE -------- # \n",
    "\n",
    "# Compute the optimal support vectors\n",
    "# -------- INSERT YOUR CODE HERE -------- #\n"
   ]
  },
  {
   "cell_type": "code",
   "execution_count": 0,
   "metadata": {
    "colab": {},
    "colab_type": "code",
    "id": "UfDRRl5Qdc6G"
   },
   "outputs": [],
   "source": [
    "# Problem (1b)\n",
    "\n",
    "def LinearSVM_Dual (X, y, C):\n",
    "\n",
    "  n, p = X.shape\n",
    "  y = y.reshape(-1,1) * 1.\n",
    "  X_dash = y * X\n",
    "  # Complete the following code:\n",
    "  # cvxopt_solvers.qp(P, q, G, h, A, b)\n",
    "  # objective:    (1/2) x^T P x + q^T x\n",
    "  # constraints:  Gx < h\n",
    "  #               Ax = b\n",
    "  # example could be found here:\n",
    "  # https://cvxopt.org/userguide/coneprog.html#quadratic-programming\n",
    "  \n",
    "  P = cvxopt_matrix(# -- INSERT YOUR CODE HERE -- #)\n",
    "  q = cvxopt_matrix(# -- INSERT YOUR CODE HERE -- #)\n",
    "  G = cvxopt_matrix(# -- INSERT YOUR CODE HERE -- #)\n",
    "  h = cvxopt_matrix(# -- INSERT YOUR CODE HERE -- #)\n",
    "  A = cvxopt_matrix(# -- INSERT YOUR CODE HERE -- #)\n",
    "  b = cvxopt_matrix(# -- INSERT YOUR CODE HERE -- #)\n",
    "\n",
    "  cvxopt_solvers.options['show_progress'] = False\n",
    "  cvxopt_solvers.options['abstol'] = 1e-10\n",
    "  cvxopt_solvers.options['reltol'] = 1e-10\n",
    "  cvxopt_solvers.options['feastol'] = 1e-10\n",
    "\n",
    "  # -- INSERT YOUR CODE HERE -- #\n",
    "  sol = cvxopt_solvers.qp(P, q, G, h, A, b)\n",
    "  # -- INSERT YOUR CODE HERE -- #\n",
    "  alphas = np.array(sol['x'])\n",
    "\n",
    "  return alphas, sol_time\n",
    "\n",
    "\n",
    "# Compute the decision boundary\n",
    "# -------- INSERT YOUR CODE HERE -------- # \n",
    "\n",
    "# Compute the optimal support vectors\n",
    "# -------- INSERT YOUR CODE HERE -------- #"
   ]
  },
  {
   "cell_type": "code",
   "execution_count": 0,
   "metadata": {
    "colab": {},
    "colab_type": "code",
    "id": "GHDLie13dhDl"
   },
   "outputs": [],
   "source": [
    "# Problem (1d)\n",
    "def Linearly_separable (X, y):\n",
    "  # -------- INSERT YOUR CODE HERE -------- #\n",
    "  # \n",
    "  #\n",
    "  # Output: sep = 1 if data linearly seperable\n",
    "  #         sep = 0 if data not linearly seperable\n",
    "\n",
    "  return sep"
   ]
  },
  {
   "cell_type": "code",
   "execution_count": 0,
   "metadata": {
    "colab": {},
    "colab_type": "code",
    "id": "sfH5fmPydj23"
   },
   "outputs": [],
   "source": [
    "# Problem (1f)\n",
    "\n",
    "def l2_norm_LinearSVM_Primal (X, y, C):\n",
    "  # -------- INSERT YOUR CODE HERE -------- #\n",
    "  # \n",
    "  #\n",
    "\n",
    "  return w, b, sol_time\n",
    "\n",
    "# Compute the decision boundary\n",
    "# -------- INSERT YOUR CODE HERE -------- # \n",
    "\n",
    "# Compute the optimal support vectors\n",
    "# -------- INSERT YOUR CODE HERE -------- #\n"
   ]
  },
  {
   "cell_type": "code",
   "execution_count": 0,
   "metadata": {
    "colab": {},
    "colab_type": "code",
    "id": "T7Cnbhwbdm9j"
   },
   "outputs": [],
   "source": [
    "# Problem (1g)\n",
    "\n",
    "def l2_norm_LinearSVM_Dual (X, y, C):\n",
    "  zero_tol = 1e-7\n",
    "\n",
    "  cvxopt_solvers.options['show_progress'] = False\n",
    "  cvxopt_solvers.options['abstol'] = 1e-10\n",
    "  cvxopt_solvers.options['reltol'] = 1e-10\n",
    "  cvxopt_solvers.options['feastol'] = 1e-10\n",
    "\n",
    "  # -------- INSERT YOUR CODE HERE -------- #\n",
    "  # \n",
    "  #\n",
    "  \n",
    "  sol = cvxopt_solvers.qp(P, q, G, h, A, b)\n",
    "  \n",
    "  # -------- INSERT YOUR CODE HERE -------- #\n",
    "  # \n",
    "  #\n",
    "  \n",
    "  return alphas, sol_time\n",
    "\n",
    "# Compute the decision boundary\n",
    "# -------- INSERT YOUR CODE HERE -------- # \n",
    "\n",
    "# Compute the optimal support vectors\n",
    "# -------- INSERT YOUR CODE HERE -------- #\n",
    "\n",
    "# Problem (1h)\n",
    "\n",
    "# Plot the decision boundaries and datapoints\n",
    "# -------- INSERT YOUR CODE HERE -------- #"
   ]
  },
  {
   "cell_type": "markdown",
   "metadata": {
    "colab_type": "text",
    "id": "v3GFVhrLc1k4"
   },
   "source": [
    "## Problem 2"
   ]
  },
  {
   "cell_type": "markdown",
   "metadata": {
    "colab_type": "text",
    "id": "EC9jVAQadqg0"
   },
   "source": [
    "(2a) to (2b)"
   ]
  },
  {
   "cell_type": "code",
   "execution_count": 0,
   "metadata": {
    "colab": {},
    "colab_type": "code",
    "id": "kvt03pmSdpYj"
   },
   "outputs": [],
   "source": [
    "# Import libraries\n",
    "from numpy import *\n",
    "import pandas as pd\n",
    "# Hint: consider using this funtion for (2a)\n",
    "from sklearn.metrics.pairwise import euclidean_distances\n",
    "from sklearn.model_selection import train_test_split\n",
    "from sklearn.svm import SVC\n",
    "from sklearn import preprocessing\n",
    "\n",
    "import matplotlib.pylab as plt"
   ]
  },
  {
   "cell_type": "code",
   "execution_count": 0,
   "metadata": {
    "colab": {},
    "colab_type": "code",
    "id": "KVCvXff_dwkt"
   },
   "outputs": [],
   "source": [
    "# Import Data\n",
    "data2 = pd.read_csv('prob2data.csv',header=None).values\n",
    "X = data2[:,0:2]\n",
    "y = data2[:,-1]\n",
    "X_train, X_test, y_train, y_test = train_test_split(X, y, test_size=0.2, random_state = 2020)"
   ]
  },
  {
   "cell_type": "code",
   "execution_count": 0,
   "metadata": {
    "colab": {},
    "colab_type": "code",
    "id": "QCjvNW9id06d"
   },
   "outputs": [],
   "source": [
    "# Problem (2a)\n",
    "\n",
    "def gaussian_kernal(sigma):\n",
    "    def gaussian_kernel_sigma(x1, x2):\n",
    "        # -------- INSERT YOUR CODE HERE -------- # \n",
    "        return # -------- INSERT YOUR CODE HERE -------- # \n",
    "    return gaussian_kernel_sigma\n"
   ]
  },
  {
   "cell_type": "code",
   "execution_count": 0,
   "metadata": {
    "colab": {},
    "colab_type": "code",
    "id": "18djpKvNd2M1"
   },
   "outputs": [],
   "source": [
    "# Problem (2b)\n",
    "\n",
    "kernel_SVM = SVC(# -- INSERT YOUR CODE HERE -- #)\n",
    "\n",
    "# Compute # of optimal support vectors\n",
    "# -- INSERT YOUR CODE HERE -- #\n",
    "\n",
    "# Compute prediction error ratio in test set\n",
    "# -- INSERT YOUR CODE HERE -- #\n",
    "\n",
    "# Plot the decision boundary with all datapoints\n",
    "# -- INSERT YOUR CODE HERE -- #"
   ]
  },
  {
   "cell_type": "markdown",
   "metadata": {
    "colab_type": "text",
    "id": "Fy2AZxlgd4U3"
   },
   "source": [
    "(2c) - (2e)"
   ]
  },
  {
   "cell_type": "code",
   "execution_count": 0,
   "metadata": {
    "colab": {},
    "colab_type": "code",
    "id": "GoQhE3eWd5qs"
   },
   "outputs": [],
   "source": [
    "# Import data for (2c) - (2e)\n",
    "data3 = pd.read_csv('votes.csv')\n",
    "X = data3[['white','black','poverty','density','bachelor','highschool','age65plus','income','age18under','population2014']]\n",
    "X = X.values\n",
    "X = preprocessing.scale(X)\n"
   ]
  },
  {
   "cell_type": "code",
   "execution_count": 0,
   "metadata": {
    "colab": {},
    "colab_type": "code",
    "id": "A5roSNUNeD8u"
   },
   "outputs": [],
   "source": [
    "# Problem (2c)\n",
    "y = # -- INSERT YOUR CODE HERE -- #\n"
   ]
  },
  {
   "cell_type": "code",
   "execution_count": 0,
   "metadata": {
    "colab": {},
    "colab_type": "code",
    "id": "uTaXGyAWeGGp"
   },
   "outputs": [],
   "source": [
    "# Train / test split for (2d) - (2e)\n",
    "X_train, X_test, y_train, y_test = train_test_split(X, y, test_size=0.3, random_state = 2020)"
   ]
  },
  {
   "cell_type": "code",
   "execution_count": 0,
   "metadata": {
    "colab": {},
    "colab_type": "code",
    "id": "OPRHeyeQeImt"
   },
   "outputs": [],
   "source": [
    "# Problem (2d)\n",
    "\n",
    "# You may use SVC from sklearn.svm\n",
    "# -------- INSERT YOUR CODE HERE -------- #\n",
    "\n",
    "# Compute # of optimal support vectors\n",
    "# -------- INSERT YOUR CODE HERE -------- #\n",
    "\n",
    "# Compute prediction error ratio in test set\n",
    "# -------- INSERT YOUR CODE HERE -------- #"
   ]
  }
 ],
 "metadata": {
  "colab": {
   "name": "Untitled6.ipynb",
   "provenance": []
  },
  "kernelspec": {
   "display_name": "Python 3",
   "language": "python",
   "name": "python3"
  },
  "language_info": {
   "codemirror_mode": {
    "name": "ipython",
    "version": 3
   },
   "file_extension": ".py",
   "mimetype": "text/x-python",
   "name": "python",
   "nbconvert_exporter": "python",
   "pygments_lexer": "ipython3",
   "version": "3.7.4"
  }
 },
 "nbformat": 4,
 "nbformat_minor": 1
}
